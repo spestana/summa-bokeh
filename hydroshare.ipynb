{
 "cells": [
  {
   "cell_type": "markdown",
   "metadata": {},
   "source": [
    "# Upload Data and Notebook to Hydroshare:\n",
    "***"
   ]
  },
  {
   "cell_type": "code",
   "execution_count": null,
   "metadata": {},
   "outputs": [],
   "source": [
    "# Establish connection with hydroshare\n",
    "hs_up = hydroshare.hydroshare()"
   ]
  },
  {
   "cell_type": "code",
   "execution_count": null,
   "metadata": {},
   "outputs": [],
   "source": [
    "# Add metadata\n",
    "title = 'Title of Resource'\n",
    "abstract = 'Short description of the resource'\n",
    "keywords = ('key', 'words', 'list')\n",
    "resource_type = 'genericresource'\n",
    "# Define the author for the resource\n",
    "metadata = '[{\"creator\":{\"name\":\"My Name\"}}]'"
   ]
  },
  {
   "cell_type": "code",
   "execution_count": null,
   "metadata": {},
   "outputs": [],
   "source": [
    "# Define directories to pull files from\n",
    "work_dir = '/home/user/work_directory'\n",
    "data_dir = '/home/user/data_directory'\n",
    "\n",
    "# Define the files that will be included in the resource\n",
    "files = (work_dir + '/my_work_notebook.ipynb', \n",
    "         data_dir + '/my_data_file.nc',\n",
    "         data_dir + '/my_data_file.nc',\n",
    "         data_dir + '/my_data_file.nc')"
   ]
  },
  {
   "cell_type": "code",
   "execution_count": null,
   "metadata": {},
   "outputs": [],
   "source": [
    "# Send this to HydroShare as a new resource\n",
    "resource_id = hs_up.createHydroShareResource(title=title, content_files=files, keywords=keywords, abstract=abstract, \n",
    "                                             resource_type=resource_type, public=False)"
   ]
  },
  {
   "cell_type": "code",
   "execution_count": null,
   "metadata": {},
   "outputs": [],
   "source": [
    "# Add a new file to this resource\n",
    "hs_up.addContentToExistingResource(resource_id, \n",
    "[new_file])"
   ]
  }
 ],
 "metadata": {
  "kernelspec": {
   "display_name": "Python [conda env:conda]",
   "language": "python",
   "name": "conda-env-conda-py"
  },
  "language_info": {
   "codemirror_mode": {
    "name": "ipython",
    "version": 3
   },
   "file_extension": ".py",
   "mimetype": "text/x-python",
   "name": "python",
   "nbconvert_exporter": "python",
   "pygments_lexer": "ipython3",
   "version": "3.6.3"
  }
 },
 "nbformat": 4,
 "nbformat_minor": 2
}
