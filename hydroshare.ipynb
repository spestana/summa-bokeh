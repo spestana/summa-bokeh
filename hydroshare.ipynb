{
 "cells": [
  {
   "cell_type": "markdown",
   "metadata": {},
   "source": [
    "# Upload Data and Notebook to Hydroshare:\n",
    "***"
   ]
  },
  {
   "cell_type": "code",
   "execution_count": 2,
   "metadata": {},
   "outputs": [
    {
     "name": "stdout",
     "output_type": "stream",
     "text": [
      "Successfully established a connection with HydroShare\n"
     ]
    }
   ],
   "source": [
    "from pysumma.hydroshare import hydroshare # for creating hydroshare objects to upload to HydroShare\n",
    "# Establish connection with hydroshare\n",
    "hs_up = hydroshare.hydroshare()"
   ]
  },
  {
   "cell_type": "code",
   "execution_count": 3,
   "metadata": {},
   "outputs": [],
   "source": [
    "# Add metadata\n",
    "title = 'SUMMA Bokeh Visualizations'\n",
    "abstract = 'Using Bokeh visualizations to investigate SUMMA snow parameterizations and parameters'\n",
    "keywords = ('snow','SUMMA', 'visualization', 'bokeh')\n",
    "resource_type = 'genericresource'\n",
    "# Define the author for the resource\n",
    "metadata = '[{\"creator\":{\"name\":\"Steven Pestana\"}}]'"
   ]
  },
  {
   "cell_type": "code",
   "execution_count": 4,
   "metadata": {},
   "outputs": [],
   "source": [
    "# Define directories to pull files from\n",
    "work_dir = '/home/jovyan/work/summa-bokeh'\n",
    "data_dir = '/home/jovyan/work/363296896e9d48d9b464d766fcd3073a/363296896e9d48d9b464d766fcd3073a/data/contents/reynolds/output/'\n",
    "\n",
    "# Define the files that will be included in the resource\n",
    "files = (data_dir + '/reynolds_output_drainage_default_timestep.nc',\n",
    "         data_dir + '/reynolds_output_drainage_fcapil_timestep.nc',\n",
    "         data_dir + '/reynolds_output_drainage_ksnow_timestep.nc',\n",
    "         data_dir + '/reynolds_output_drainage_mwexp_timestep.nc',\n",
    "         data_dir + '/reynolds_output_drainage_changeAll_timestep.nc')"
   ]
  },
  {
   "cell_type": "code",
   "execution_count": 5,
   "metadata": {},
   "outputs": [
    {
     "name": "stdout",
     "output_type": "stream",
     "text": [
      "Resource Created Successfully\n",
      "Successfully Added Content Files\n"
     ]
    },
    {
     "data": {
      "text/html": [
       "Resource id: 38d4f881e5b946dabb1fe5d14b23aab7"
      ],
      "text/plain": [
       "<IPython.core.display.HTML object>"
      ]
     },
     "metadata": {},
     "output_type": "display_data"
    },
    {
     "data": {
      "text/html": [
       "<a href=https://www.hydroshare.org/resource/38d4f881e5b946dabb1fe5d14b23aab7 target=\"_blank\">Open Resource in HydroShare<a>"
      ],
      "text/plain": [
       "<IPython.core.display.HTML object>"
      ]
     },
     "metadata": {},
     "output_type": "display_data"
    }
   ],
   "source": [
    "# Send this to HydroShare as a new resource\n",
    "resource_id = hs_up.createHydroShareResource(title=title, content_files=files, keywords=keywords, abstract=abstract, \n",
    "                                             resource_type=resource_type, public=False)"
   ]
  },
  {
   "cell_type": "markdown",
   "metadata": {},
   "source": [
    "***\n",
    "# Resource already exists, use this to add additional files:"
   ]
  },
  {
   "cell_type": "code",
   "execution_count": null,
   "metadata": {},
   "outputs": [],
   "source": [
    "# Add a new file to this resource\n",
    "hs_up.addContentToExistingResource(resource_id, \n",
    "[new_file])"
   ]
  }
 ],
 "metadata": {
  "kernelspec": {
   "display_name": "Python [conda env:conda]",
   "language": "python",
   "name": "conda-env-conda-py"
  },
  "language_info": {
   "codemirror_mode": {
    "name": "ipython",
    "version": 3
   },
   "file_extension": ".py",
   "mimetype": "text/x-python",
   "name": "python",
   "nbconvert_exporter": "python",
   "pygments_lexer": "ipython3",
   "version": "3.6.3"
  }
 },
 "nbformat": 4,
 "nbformat_minor": 2
}
